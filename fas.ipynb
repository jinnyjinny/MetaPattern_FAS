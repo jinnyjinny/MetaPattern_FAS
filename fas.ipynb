{
 "cells": [
  {
   "cell_type": "markdown",
   "metadata": {},
   "source": [
    "# Data Generating and Preprocessing"
   ]
  },
  {
   "cell_type": "code",
   "execution_count": 7,
   "metadata": {},
   "outputs": [],
   "source": [
    "# !git clone https://github.com/jinnyjinny/MetaPattern_FAS.git"
   ]
  },
  {
   "cell_type": "code",
   "execution_count": 8,
   "metadata": {},
   "outputs": [],
   "source": [
    "# !wget --no-check-certificate \\\n",
    "# https://storage.googleapis.com/mledu-datasets/cats_and_dogs_filtered.zip \\\n",
    "# -O ./cats_and_dogs_filtered.zip"
   ]
  },
  {
   "cell_type": "code",
   "execution_count": 9,
   "metadata": {},
   "outputs": [],
   "source": [
    "import os\n",
    "import zipfile\n",
    "\n",
    "local_zip = '/root/Desktop/workspace/meta-learning/FAS/cats_and_dogs_filtered.zip'\n",
    "zip_ref = zipfile.ZipFile(local_zip, 'r')\n",
    "zip_ref.extractall('./')\n",
    "zip_ref.close()"
   ]
  },
  {
   "cell_type": "code",
   "execution_count": 10,
   "metadata": {},
   "outputs": [],
   "source": [
    "base_dir = '/root/Desktop/workspace/meta-learning/FAS/cats_and_dogs_filtered'\n",
    "train_dir = os.path.join(base_dir, 'train')\n",
    "validation_dir = os.path.join(base_dir, 'validation')\n",
    "\n",
    "# Directory with our training cat pictures\n",
    "train_cats_dir = os.path.join(train_dir, 'cats')\n",
    "\n",
    "# Directory with our training dog pictures\n",
    "train_dogs_dir = os.path.join(train_dir, 'dogs')\n",
    "\n",
    "# Directory with our validation cat pictures\n",
    "validation_cats_dir = os.path.join(validation_dir, 'cats')\n",
    "\n",
    "# Directory with our validation dog pictures\n",
    "validation_dogs_dir = os.path.join(validation_dir, 'dogs')"
   ]
  },
  {
   "cell_type": "code",
   "execution_count": 11,
   "metadata": {},
   "outputs": [
    {
     "name": "stdout",
     "output_type": "stream",
     "text": [
      "['cat.686.jpg', 'cat.280.jpg', 'cat.441.jpg', 'cat.837.jpg', 'cat.917.jpg', 'cat.575.jpg', 'cat.385.jpg', 'cat.212.jpg', 'cat.520.jpg', 'cat.60.jpg']\n",
      "['dog.0.jpg', 'dog.1.jpg', 'dog.10.jpg', 'dog.100.jpg', 'dog.101.jpg', 'dog.102.jpg', 'dog.103.jpg', 'dog.104.jpg', 'dog.105.jpg', 'dog.106.jpg']\n"
     ]
    }
   ],
   "source": [
    "train_cat_fnames = os.listdir(train_cats_dir)\n",
    "print(train_cat_fnames[:10])\n",
    "\n",
    "train_dog_fnames = os.listdir(train_dogs_dir)\n",
    "train_dog_fnames.sort()\n",
    "print(train_dog_fnames[:10])"
   ]
  },
  {
   "cell_type": "code",
   "execution_count": 12,
   "metadata": {},
   "outputs": [
    {
     "name": "stdout",
     "output_type": "stream",
     "text": [
      "Found 1000 cat images and 1000 dog images.\n"
     ]
    },
    {
     "ename": "KeyboardInterrupt",
     "evalue": "",
     "output_type": "error",
     "traceback": [
      "\u001b[0;31m---------------------------------------------------------------------------\u001b[0m",
      "\u001b[0;31mKeyboardInterrupt\u001b[0m                         Traceback (most recent call last)",
      "Cell \u001b[0;32mIn[12], line 87\u001b[0m\n\u001b[1;32m     84\u001b[0m output_data_path \u001b[38;5;241m=\u001b[39m \u001b[38;5;124m\"\u001b[39m\u001b[38;5;124m./data/FAS_data\u001b[39m\u001b[38;5;124m\"\u001b[39m\n\u001b[1;32m     86\u001b[0m \u001b[38;5;66;03m# Split the dataset\u001b[39;00m\n\u001b[0;32m---> 87\u001b[0m \u001b[43msplit_cat_dog_dataset\u001b[49m\u001b[43m(\u001b[49m\u001b[43moriginal_data_path\u001b[49m\u001b[43m,\u001b[49m\u001b[43m \u001b[49m\u001b[43moutput_data_path\u001b[49m\u001b[43m)\u001b[49m\n",
      "Cell \u001b[0;32mIn[12], line 65\u001b[0m, in \u001b[0;36msplit_cat_dog_dataset\u001b[0;34m(data_path, output_path)\u001b[0m\n\u001b[1;32m     63\u001b[0m         new_file_name \u001b[38;5;241m=\u001b[39m \u001b[38;5;124mf\u001b[39m\u001b[38;5;124m\"\u001b[39m\u001b[38;5;132;01m{\u001b[39;00mlabel\u001b[38;5;132;01m}\u001b[39;00m\u001b[38;5;124m_\u001b[39m\u001b[38;5;132;01m{\u001b[39;00mos\u001b[38;5;241m.\u001b[39mpath\u001b[38;5;241m.\u001b[39mbasename(file_path)\u001b[38;5;132;01m}\u001b[39;00m\u001b[38;5;124m\"\u001b[39m\n\u001b[1;32m     64\u001b[0m         new_path \u001b[38;5;241m=\u001b[39m os\u001b[38;5;241m.\u001b[39mpath\u001b[38;5;241m.\u001b[39mjoin(subset_dir, new_file_name)\n\u001b[0;32m---> 65\u001b[0m         \u001b[43mshutil\u001b[49m\u001b[38;5;241;43m.\u001b[39;49m\u001b[43mcopy\u001b[49m\u001b[43m(\u001b[49m\u001b[43mfile_path\u001b[49m\u001b[43m,\u001b[49m\u001b[43m \u001b[49m\u001b[43mnew_path\u001b[49m\u001b[43m)\u001b[49m\n\u001b[1;32m     66\u001b[0m         new_file_paths\u001b[38;5;241m.\u001b[39mappend(new_path)  \u001b[38;5;66;03m# Save new path for the txt file\u001b[39;00m\n\u001b[1;32m     68\u001b[0m \u001b[38;5;66;03m# Save tgt dataset as a single list\u001b[39;00m\n",
      "File \u001b[0;32m/opt/conda/envs/fas-env/lib/python3.9/shutil.py:428\u001b[0m, in \u001b[0;36mcopy\u001b[0;34m(src, dst, follow_symlinks)\u001b[0m\n\u001b[1;32m    426\u001b[0m     dst \u001b[38;5;241m=\u001b[39m os\u001b[38;5;241m.\u001b[39mpath\u001b[38;5;241m.\u001b[39mjoin(dst, os\u001b[38;5;241m.\u001b[39mpath\u001b[38;5;241m.\u001b[39mbasename(src))\n\u001b[1;32m    427\u001b[0m copyfile(src, dst, follow_symlinks\u001b[38;5;241m=\u001b[39mfollow_symlinks)\n\u001b[0;32m--> 428\u001b[0m \u001b[43mcopymode\u001b[49m\u001b[43m(\u001b[49m\u001b[43msrc\u001b[49m\u001b[43m,\u001b[49m\u001b[43m \u001b[49m\u001b[43mdst\u001b[49m\u001b[43m,\u001b[49m\u001b[43m \u001b[49m\u001b[43mfollow_symlinks\u001b[49m\u001b[38;5;241;43m=\u001b[39;49m\u001b[43mfollow_symlinks\u001b[49m\u001b[43m)\u001b[49m\n\u001b[1;32m    429\u001b[0m \u001b[38;5;28;01mreturn\u001b[39;00m dst\n",
      "File \u001b[0;32m/opt/conda/envs/fas-env/lib/python3.9/shutil.py:316\u001b[0m, in \u001b[0;36mcopymode\u001b[0;34m(src, dst, follow_symlinks)\u001b[0m\n\u001b[1;32m    313\u001b[0m \u001b[38;5;28;01melse\u001b[39;00m:\n\u001b[1;32m    314\u001b[0m     stat_func, chmod_func \u001b[38;5;241m=\u001b[39m _stat, os\u001b[38;5;241m.\u001b[39mchmod\n\u001b[0;32m--> 316\u001b[0m st \u001b[38;5;241m=\u001b[39m \u001b[43mstat_func\u001b[49m\u001b[43m(\u001b[49m\u001b[43msrc\u001b[49m\u001b[43m)\u001b[49m\n\u001b[1;32m    317\u001b[0m chmod_func(dst, stat\u001b[38;5;241m.\u001b[39mS_IMODE(st\u001b[38;5;241m.\u001b[39mst_mode))\n",
      "File \u001b[0;32m/opt/conda/envs/fas-env/lib/python3.9/shutil.py:229\u001b[0m, in \u001b[0;36m_stat\u001b[0;34m(fn)\u001b[0m\n\u001b[1;32m    228\u001b[0m \u001b[38;5;28;01mdef\u001b[39;00m \u001b[38;5;21m_stat\u001b[39m(fn):\n\u001b[0;32m--> 229\u001b[0m     \u001b[38;5;28;01mreturn\u001b[39;00m fn\u001b[38;5;241m.\u001b[39mstat() \u001b[38;5;28;01mif\u001b[39;00m \u001b[38;5;28misinstance\u001b[39m(fn, os\u001b[38;5;241m.\u001b[39mDirEntry) \u001b[38;5;28;01melse\u001b[39;00m \u001b[43mos\u001b[49m\u001b[38;5;241;43m.\u001b[39;49m\u001b[43mstat\u001b[49m\u001b[43m(\u001b[49m\u001b[43mfn\u001b[49m\u001b[43m)\u001b[49m\n",
      "\u001b[0;31mKeyboardInterrupt\u001b[0m: "
     ]
    }
   ],
   "source": [
    "import os\n",
    "import shutil\n",
    "from sklearn.model_selection import train_test_split\n",
    "\n",
    "def split_cat_dog_dataset(data_path, output_path):\n",
    "    cat_folder = os.path.join(data_path, \"cats\")\n",
    "    dog_folder = os.path.join(data_path, \"dogs\")\n",
    "\n",
    "    if not os.path.exists(cat_folder) or not os.path.exists(dog_folder):\n",
    "        print(f\"Error: {cat_folder} or {dog_folder} does not exist.\")\n",
    "        return\n",
    "\n",
    "    # Collect image paths\n",
    "    cat_files = [os.path.join(cat_folder, f) for f in os.listdir(cat_folder) if f.endswith(\".jpg\")]\n",
    "    dog_files = [os.path.join(dog_folder, f) for f in os.listdir(dog_folder) if f.endswith(\".jpg\")]\n",
    "\n",
    "    print(f\"Found {len(cat_files)} cat images and {len(dog_files)} dog images.\")\n",
    "\n",
    "    # Split data into subsets\n",
    "    train_cats, tgt_cats = train_test_split(cat_files, test_size=0.25, random_state=42)\n",
    "    src1_cats, src2_cats = train_test_split(train_cats, test_size=0.5, random_state=42)\n",
    "    src3_cats, src1_cats = train_test_split(src1_cats, test_size=0.5, random_state=42)\n",
    "\n",
    "    train_dogs, tgt_dogs = train_test_split(dog_files, test_size=0.25, random_state=42)\n",
    "    src1_dogs, src2_dogs = train_test_split(train_dogs, test_size=0.5, random_state=42)\n",
    "    src3_dogs, src1_dogs = train_test_split(src1_dogs, test_size=0.5, random_state=42)\n",
    "\n",
    "    # Save subsets\n",
    "    subsets = {\n",
    "        \"src1_train_spoofing\": src1_cats,\n",
    "        \"src1_train_live\": src1_dogs,\n",
    "        \"src2_train_spoofing\": src2_cats,\n",
    "        \"src2_train_live\": src2_dogs,\n",
    "        \"src3_train_spoofing\": src3_cats,\n",
    "        \"src3_train_live\": src3_dogs,\n",
    "    }\n",
    "\n",
    "    # tgt 통합 데이터셋\n",
    "    tgt_files = tgt_cats + tgt_dogs  # Combine spoofing (cats) and live (dogs)\n",
    "    tgt_dir = os.path.join(output_path, \"src4_test\")\n",
    "    os.makedirs(tgt_dir, exist_ok=True)\n",
    "\n",
    "    # Helper function to determine label\n",
    "    def get_label(file_path):\n",
    "        if \"cat\" in file_path.split('/')[-1].lower():\n",
    "            return \"spoof\"\n",
    "        elif \"dog\" in file_path.split('/')[-1].lower():\n",
    "            return \"live\"\n",
    "        return None  # If file doesn't match expected labels\n",
    "\n",
    "    # Create output directories and save files\n",
    "    for subset_name, subset_files in subsets.items():\n",
    "        subset_dir = os.path.join(output_path, subset_name)\n",
    "        os.makedirs(subset_dir, exist_ok=True)\n",
    "\n",
    "        # Save image files in the corresponding folder\n",
    "        new_file_paths = []\n",
    "        for file_path in subset_files:\n",
    "            label = get_label(file_path)\n",
    "            if label is None:\n",
    "                continue  # Skip files that don't match expected labels\n",
    "\n",
    "            new_file_name = f\"{label}_{os.path.basename(file_path)}\"\n",
    "            new_path = os.path.join(subset_dir, new_file_name)\n",
    "            shutil.copy(file_path, new_path)\n",
    "            new_file_paths.append(new_path)  # Save new path for the txt file\n",
    "\n",
    "    # Save tgt dataset as a single list\n",
    "    tgt_file_paths = []\n",
    "    for file_path in tgt_files:\n",
    "        label = get_label(file_path)\n",
    "        if label is None:\n",
    "            continue  # Skip files that don't match expected labels\n",
    "\n",
    "        new_file_name = f\"{label}_{os.path.basename(file_path)}\"\n",
    "        new_path = os.path.join(tgt_dir, new_file_name)\n",
    "        shutil.copy(file_path, new_path)\n",
    "        tgt_file_paths.append(new_path)\n",
    "\n",
    "    print(\"Dataset split and saved at:\", output_path)\n",
    "\n",
    "# Paths\n",
    "original_data_path = \"/root/Desktop/workspace/meta-learning/FAS/cats_and_dogs_filtered/train\"\n",
    "output_data_path = \"./data/FAS_data\"\n",
    "\n",
    "# Split the dataset\n",
    "split_cat_dog_dataset(original_data_path, output_data_path)"
   ]
  },
  {
   "cell_type": "code",
   "execution_count": null,
   "metadata": {},
   "outputs": [],
   "source": [
    "import os\n",
    "import cv2\n",
    "\n",
    "def make_data_list(input_data_path=None, output_data_path=None):\n",
    "    \"\"\"\n",
    "    Generate labeled data list files for face anti-spoofing dataset.\n",
    "\n",
    "    Args:\n",
    "        input_data_path (str): Path to the input dataset directory.\n",
    "        output_data_path (str): Path to save the output data list files.\n",
    "    \"\"\"\n",
    "    if input_data_path is None:\n",
    "        input_data_path = \"FAS_data\"\n",
    "    if output_data_path is None:\n",
    "        output_data_path = \"data_list\"\n",
    "\n",
    "    # Use input folder name as prefix\n",
    "    prefix = os.path.basename(os.path.normpath(input_data_path))\n",
    "\n",
    "    # Ensure output directory exists\n",
    "    os.makedirs(output_data_path, exist_ok=True)\n",
    "\n",
    "    for root, _, files in os.walk(input_data_path):  # Search all directories under input_data_path\n",
    "        for file in files:\n",
    "            if file.endswith(\".jpg\"):\n",
    "                file_path = os.path.abspath(os.path.join(root, file))  # Convert to absolute path\n",
    "                height, width, channels = 0, 0, 0\n",
    "\n",
    "                # Read image dimensions\n",
    "                img = cv2.imread(file_path)\n",
    "                if img is not None:\n",
    "                    height, width, channels = img.shape\n",
    "\n",
    "                # Determine list file name and label\n",
    "                list_file = None\n",
    "                if \"test\" in root.lower():\n",
    "                    if \"live\" in root.lower():\n",
    "                        list_file = f\"{prefix}-TEST-REAL.txt\"\n",
    "                        face_label = \"0\"\n",
    "                    elif \"spoof\" in root.lower():\n",
    "                        list_file = f\"{prefix}-TEST-FAKE.txt\"\n",
    "                        face_label = \"1\"\n",
    "                    else:\n",
    "                        list_file = f\"{prefix}-TEST-ALL.txt\"\n",
    "                        face_label = \"1\" if \"spoof\" in file.lower() else \"0\"\n",
    "                elif \"train\" in root.lower() or \"dev\" in root.lower():\n",
    "                    if \"live\" in root.lower():\n",
    "                        list_file = f\"{prefix}-TRAIN-REAL.txt\"\n",
    "                        face_label = \"0\"\n",
    "                    elif \"spoof\" in root.lower():\n",
    "                        list_file = f\"{prefix}-TRAIN-FAKE.txt\"\n",
    "                        face_label = \"1\"\n",
    "                    else:\n",
    "                        list_file = f\"{prefix}-TRAIN-ALL.txt\"\n",
    "                        face_label = \"1\" if \"spoof\" in file.lower() else \"0\"\n",
    "\n",
    "                # Skip if list_file is not assigned\n",
    "                if list_file is None:\n",
    "                    continue\n",
    "\n",
    "                # Create the full path for the list file\n",
    "                list_file_path = os.path.abspath(os.path.join(output_data_path, list_file))\n",
    "\n",
    "                # Append data to the list file\n",
    "                with open(list_file_path, \"a\") as f:\n",
    "                    f.write(f\"{file_path},{face_label},{height},{width}\\n\")\n",
    "\n",
    "    print(f\"Data lists for {prefix} created in: {output_data_path}\")\n",
    "    return True\n",
    "\n",
    "# 반복적으로 호출하여 하위 폴더 처리\n",
    "def process_all_folders(root_folder, output_data_path):\n",
    "    \"\"\"\n",
    "    Process all subfolders in the root folder to create data lists.\n",
    "\n",
    "    Args:\n",
    "        root_folder (str): Root directory containing subfolders to process.\n",
    "        output_data_path (str): Path to save the output data list files.\n",
    "    \"\"\"\n",
    "    for sub_folder in os.listdir(root_folder):\n",
    "        sub_folder_path = os.path.join(root_folder, sub_folder)\n",
    "        if os.path.isdir(sub_folder_path):  # Check if it's a directory\n",
    "            print(f\"Processing folder: {sub_folder_path}\")\n",
    "            make_data_list(input_data_path=sub_folder_path, output_data_path=output_data_path)\n",
    "\n",
    "\n",
    "process_all_folders(root_folder='./data/FAS_data', output_data_path='./data/data_list')"
   ]
  },
  {
   "cell_type": "markdown",
   "metadata": {},
   "source": [
    "# Meta Pattern model training"
   ]
  },
  {
   "cell_type": "code",
   "execution_count": null,
   "metadata": {},
   "outputs": [],
   "source": [
    "# import os\n",
    "# os.chdir(\"./MetaPattern_FAS\")\n",
    "# print(\"Current working directory:\", os.getcwd())"
   ]
  },
  {
   "cell_type": "code",
   "execution_count": null,
   "metadata": {},
   "outputs": [],
   "source": [
    "from models.HFN_MP import custom_config\n",
    "\n",
    "# Config 초기화\n",
    "config = custom_config.get_cfg_custom()\n",
    "# 필요에 따라 Config 수정\n",
    "\n",
    "# ========================FOR DATA=========================\n",
    "config.DATA.ROOT_DIR = \"/root/Desktop/workspace/meta-learning/MetaPattern_FAS/data\"\n",
    "dl_root_dir = \"/root/Desktop/workspace/meta-learning/MetaPattern_FAS/data/data_list\"\n",
    "config.DATA.TARGET_DATA = dl_root_dir + \"/src4_test-TEST-ALL.txt\"\n",
    "config.DATA.TRAIN_SRC_FAKE_1 = dl_root_dir + \"/src1_train_spoofing-TRAIN-FAKE.txt\"\n",
    "config.DATA.TRAIN_SRC_FAKE_2 = dl_root_dir + \"/src2_train_spoofing-TRAIN-FAKE.txt\"\n",
    "config.DATA.TRAIN_SRC_FAKE_3 = dl_root_dir + \"/src3_train_spoofing-TRAIN-FAKE.txt\"\n",
    "config.DATA.TRAIN_SRC_REAL_1 = dl_root_dir + \"/src1_train_live-TRAIN-REAL.txt\"\n",
    "config.DATA.TRAIN_SRC_REAL_2 = dl_root_dir + \"/src2_train_live-TRAIN-REAL.txt\"\n",
    "config.DATA.TRAIN_SRC_REAL_3 = dl_root_dir + \"/src3_train_live-TRAIN-REAL.txt\"\n",
    "config.OUTPUT_DIR = \"/root/Desktop/workspace/meta-learning/MetaPattern_FAS/data/output/tmp\"\n",
    "config.DATA.DATASET='ZipDataset'\n",
    "\n",
    "config.DATA.BATCH_SIZE = 4\n",
    "\n",
    "config.NORM_FLAG = True\n",
    "config.SEED = 42\n",
    "config.DEBUG = False\n",
    "\n",
    "# ========================FOR TRIANING=========================\n",
    "config.TRAIN.INIT_LR = 0.001\n",
    "config.TRAIN.LR_EPOCH_1 = 0\n",
    "config.TRAIN.LR_EPOCH_2 = 150\n",
    "config.TRAIN.MOMENTUM = 0.9\n",
    "config.TRAIN.WEIGHT_DECAY = 5e-4 # \n",
    "config.TRAIN.WEIGHT_DECAY_T = 0.0 # ColorNet for TRANSFORMER\n",
    "config.TRAIN.MAX_ITER = 50# 1000000\n",
    "config.TRAIN.META_TRAIN_SIZE = 2\n",
    "config.TRAIN.ITER_PER_EPOCH = 32 #100\n",
    "config.TRAIN.META_PRE_TRAIN = True\n",
    "config.TRAIN.DROPOUT = 0.1\n",
    "config.TRAIN.SYNC_TRAINING = False\n",
    "config.TRAIN.IMAGENET_PRETRAIN = True\n",
    "config.TRAIN.RESUME = '' # Path to the resume ckpt\n",
    "config.TRAIN.LR_PATIENCE = 0\n",
    "config.TRAIN.PATIENCE = 100\n",
    "config.TRAIN.SAVE_BEST = True # Only save the best model while training\n",
    "config.TRAIN.PRINT_FREQ = 100\n",
    "config.TRAIN.VAL_FREQ = 1\n",
    "config.TRAIN.W_depth = 10\n",
    "config.TRAIN.W_metatest = 1\n",
    "config.TRAIN.META_LEARNING_RATE = 0.0001\n",
    "config.TRAIN.BETAS = [0.9, 0.999]\n",
    "config.TRAIN.VAL_FREQ = 20\n",
    "config.TRAIN.NUM_FRAMES = 100\n",
    "config.TRAIN.INNER_LOOPS = 2\n",
    "\n",
    "config.TRAIN.INNER_LR = 0.001\n",
    "config.TRAIN.META_LEARNING_RATE = 0.0001\n",
    "config.TRAIN.INNER_LOOPS = 5\n",
    "config.TRAIN.PRETRAIN_HFN = True\n",
    "config.TRAIN.PRETRAIN_ITER = 1000\n"
   ]
  },
  {
   "cell_type": "code",
   "execution_count": 5,
   "metadata": {},
   "outputs": [],
   "source": [
    "from models.HFN_MP.meta_trainer import MetaTrainerManager"
   ]
  },
  {
   "cell_type": "code",
   "execution_count": null,
   "metadata": {},
   "outputs": [
    {
     "name": "stdout",
     "output_type": "stream",
     "text": [
      "2024-12-09 17:09:00 - INFO - Training pattern extractor with maml\n",
      "2024-12-09 17:09:00 - INFO - Loading ImageNet Pretrain\n",
      "2024-12-09 17:09:01 - INFO - Training pattern extractor with maml\n",
      "2024-12-09 17:09:01 - INFO - maml\n",
      "2024-12-09 17:09:02 - INFO - Starting MAML Feature Extractor Training\n"
     ]
    },
    {
     "name": "stderr",
     "output_type": "stream",
     "text": [
      " 62%|████████████████████████████████████████████████████████████████████████████▎                                              | 31/50 [00:13<00:07,  2.50it/s]"
     ]
    },
    {
     "name": "stdout",
     "output_type": "stream",
     "text": [
      "2024-12-09 17:09:15 - INFO - Iteration 32: Train Loss = 0.3010, Train Accuracy = 0.9648\n"
     ]
    },
    {
     "name": "stderr",
     "output_type": "stream",
     "text": [
      "100%|███████████████████████████████████████████████████████████████████████████████████████████████████████████████████████████| 50/50 [00:21<00:00,  2.38it/s]"
     ]
    },
    {
     "name": "stdout",
     "output_type": "stream",
     "text": [
      "2024-12-09 17:09:23 - INFO - Starting Meta-Test on Validation Data\n"
     ]
    },
    {
     "name": "stderr",
     "output_type": "stream",
     "text": [
      "\n"
     ]
    },
    {
     "name": "stdout",
     "output_type": "stream",
     "text": [
      "2024-12-09 17:10:06 - INFO - Meta-Test Results - Loss: 10.7845, AUC: 0.49506863814227986, HTER: 0.5052439570771057, TPR@FPR=0.01: 0.0\n",
      "2024-12-09 17:10:06 - INFO - Training PE with MAML method\n"
     ]
    }
   ],
   "source": [
    "meta_trainer = MetaTrainerManager(config)\n",
    "meta_trainer.train(pe_method='maml')"
   ]
  },
  {
   "cell_type": "code",
   "execution_count": null,
   "metadata": {},
   "outputs": [
    {
     "name": "stdout",
     "output_type": "stream",
     "text": [
      "2024-12-09 17:54:29 - INFO - Training pattern extractor with reptile\n",
      "2024-12-09 17:54:29 - INFO - Loading ImageNet Pretrain\n",
      "2024-12-09 17:54:29 - INFO - Training pattern extractor with reptile\n",
      "2024-12-09 17:54:29 - INFO - reptile\n",
      "2024-12-09 17:54:30 - INFO - Starting Reptile Feature Extractor Training\n",
      "2024-12-09 17:54:30 - INFO - Starting Reptile Training\n"
     ]
    },
    {
     "name": "stderr",
     "output_type": "stream",
     "text": [
      " 62%|████████████████████████████████████████████████████████████████████████████▎                                              | 31/50 [00:18<00:10,  1.76it/s]"
     ]
    },
    {
     "name": "stdout",
     "output_type": "stream",
     "text": [
      "2024-12-09 17:54:49 - INFO - Iteration 32: Train Loss = 0.5100, Train Accuracy = 0.9414\n"
     ]
    },
    {
     "name": "stderr",
     "output_type": "stream",
     "text": [
      "100%|███████████████████████████████████████████████████████████████████████████████████████████████████████████████████████████| 50/50 [00:29<00:00,  1.72it/s]"
     ]
    },
    {
     "name": "stdout",
     "output_type": "stream",
     "text": [
      "2024-12-09 17:54:59 - INFO - Starting Meta-Test on Validation Data\n"
     ]
    },
    {
     "name": "stderr",
     "output_type": "stream",
     "text": [
      "\n"
     ]
    },
    {
     "name": "stdout",
     "output_type": "stream",
     "text": [
      "2024-12-09 17:57:20 - INFO - Meta-Test Results - Loss: 6.8494, AUC: 0.48371447815767527, HTER: 0.5097708549068483, TPR@FPR=0.01: 0.0\n",
      "2024-12-09 17:57:20 - INFO - Training PE with REPTILE method\n"
     ]
    }
   ],
   "source": [
    "meta_trainer = MetaTrainerManager(config)\n",
    "meta_trainer.train(pe_method='reptile')"
   ]
  }
 ],
 "metadata": {
  "kernelspec": {
   "display_name": "fas-env",
   "language": "python",
   "name": "python3"
  },
  "language_info": {
   "codemirror_mode": {
    "name": "ipython",
    "version": 3
   },
   "file_extension": ".py",
   "mimetype": "text/x-python",
   "name": "python",
   "nbconvert_exporter": "python",
   "pygments_lexer": "ipython3",
   "version": "3.9.20"
  },
  "toc": {
   "base_numbering": 1,
   "nav_menu": {},
   "number_sections": false,
   "sideBar": true,
   "skip_h1_title": false,
   "title_cell": "Table of Contents",
   "title_sidebar": "Contents",
   "toc_cell": false,
   "toc_position": {},
   "toc_section_display": true,
   "toc_window_display": false
  }
 },
 "nbformat": 4,
 "nbformat_minor": 2
}
