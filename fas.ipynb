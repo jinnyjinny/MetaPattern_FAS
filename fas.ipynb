{
 "cells": [
  {
   "cell_type": "markdown",
   "metadata": {},
   "source": [
    "# Data Generating and Preprocessing"
   ]
  },
  {
   "cell_type": "code",
   "execution_count": null,
   "metadata": {},
   "outputs": [],
   "source": [
    "# !git clone https://github.com/jinnyjinny/MetaPattern_FAS.git"
   ]
  },
  {
   "cell_type": "code",
   "execution_count": null,
   "metadata": {},
   "outputs": [],
   "source": [
    "# !wget --no-check-certificate \\\n",
    "# https://storage.googleapis.com/mledu-datasets/cats_and_dogs_filtered.zip \\\n",
    "# -O ./cats_and_dogs_filtered.zip"
   ]
  },
  {
   "cell_type": "code",
   "execution_count": 1,
   "metadata": {},
   "outputs": [],
   "source": [
    "import os\n",
    "import zipfile\n",
    "\n",
    "local_zip = '/root/Desktop/workspace/meta-learning/FAS/cats_and_dogs_filtered.zip'\n",
    "zip_ref = zipfile.ZipFile(local_zip, 'r')\n",
    "zip_ref.extractall('./')\n",
    "zip_ref.close()"
   ]
  },
  {
   "cell_type": "code",
   "execution_count": 2,
   "metadata": {},
   "outputs": [],
   "source": [
    "base_dir = '/root/Desktop/workspace/meta-learning/FAS/cats_and_dogs_filtered'\n",
    "train_dir = os.path.join(base_dir, 'train')\n",
    "validation_dir = os.path.join(base_dir, 'validation')\n",
    "\n",
    "# Directory with our training cat pictures\n",
    "train_cats_dir = os.path.join(train_dir, 'cats')\n",
    "\n",
    "# Directory with our training dog pictures\n",
    "train_dogs_dir = os.path.join(train_dir, 'dogs')\n",
    "\n",
    "# Directory with our validation cat pictures\n",
    "validation_cats_dir = os.path.join(validation_dir, 'cats')\n",
    "\n",
    "# Directory with our validation dog pictures\n",
    "validation_dogs_dir = os.path.join(validation_dir, 'dogs')"
   ]
  },
  {
   "cell_type": "code",
   "execution_count": 3,
   "metadata": {},
   "outputs": [
    {
     "name": "stdout",
     "output_type": "stream",
     "text": [
      "['cat.686.jpg', 'cat.280.jpg', 'cat.441.jpg', 'cat.837.jpg', 'cat.917.jpg', 'cat.575.jpg', 'cat.385.jpg', 'cat.212.jpg', 'cat.520.jpg', 'cat.60.jpg']\n",
      "['dog.0.jpg', 'dog.1.jpg', 'dog.10.jpg', 'dog.100.jpg', 'dog.101.jpg', 'dog.102.jpg', 'dog.103.jpg', 'dog.104.jpg', 'dog.105.jpg', 'dog.106.jpg']\n"
     ]
    }
   ],
   "source": [
    "train_cat_fnames = os.listdir(train_cats_dir)\n",
    "print(train_cat_fnames[:10])\n",
    "\n",
    "train_dog_fnames = os.listdir(train_dogs_dir)\n",
    "train_dog_fnames.sort()\n",
    "print(train_dog_fnames[:10])"
   ]
  },
  {
   "cell_type": "code",
   "execution_count": 4,
   "metadata": {},
   "outputs": [
    {
     "name": "stdout",
     "output_type": "stream",
     "text": [
      "Found 1000 cat images and 1000 dog images.\n",
      "Dataset split and saved at: ./data/FAS_data\n"
     ]
    }
   ],
   "source": [
    "import os\n",
    "import shutil\n",
    "from sklearn.model_selection import train_test_split\n",
    "\n",
    "def split_cat_dog_dataset(data_path, output_path):\n",
    "    cat_folder = os.path.join(data_path, \"cats\")\n",
    "    dog_folder = os.path.join(data_path, \"dogs\")\n",
    "\n",
    "    if not os.path.exists(cat_folder) or not os.path.exists(dog_folder):\n",
    "        print(f\"Error: {cat_folder} or {dog_folder} does not exist.\")\n",
    "        return\n",
    "\n",
    "    # Collect image paths\n",
    "    cat_files = [os.path.join(cat_folder, f) for f in os.listdir(cat_folder) if f.endswith(\".jpg\")]\n",
    "    dog_files = [os.path.join(dog_folder, f) for f in os.listdir(dog_folder) if f.endswith(\".jpg\")]\n",
    "\n",
    "    print(f\"Found {len(cat_files)} cat images and {len(dog_files)} dog images.\")\n",
    "\n",
    "    # Split data into subsets\n",
    "    train_cats, tgt_cats = train_test_split(cat_files, test_size=0.25, random_state=42)\n",
    "    src1_cats, src2_cats = train_test_split(train_cats, test_size=0.5, random_state=42)\n",
    "    src3_cats, src1_cats = train_test_split(src1_cats, test_size=0.5, random_state=42)\n",
    "\n",
    "    train_dogs, tgt_dogs = train_test_split(dog_files, test_size=0.25, random_state=42)\n",
    "    src1_dogs, src2_dogs = train_test_split(train_dogs, test_size=0.5, random_state=42)\n",
    "    src3_dogs, src1_dogs = train_test_split(src1_dogs, test_size=0.5, random_state=42)\n",
    "\n",
    "    # Save subsets\n",
    "    subsets = {\n",
    "        \"src1_train_spoofing\": src1_cats,\n",
    "        \"src1_train_live\": src1_dogs,\n",
    "        \"src2_train_spoofing\": src2_cats,\n",
    "        \"src2_train_live\": src2_dogs,\n",
    "        \"src3_train_spoofing\": src3_cats,\n",
    "        \"src3_train_live\": src3_dogs,\n",
    "    }\n",
    "\n",
    "    # tgt 통합 데이터셋\n",
    "    tgt_files = tgt_cats + tgt_dogs  # Combine spoofing (cats) and live (dogs)\n",
    "    tgt_dir = os.path.join(output_path, \"src4_test\")\n",
    "    os.makedirs(tgt_dir, exist_ok=True)\n",
    "\n",
    "    # Helper function to determine label\n",
    "    def get_label(file_path):\n",
    "        if \"cat\" in file_path.split('/')[-1].lower():\n",
    "            return \"spoof\"\n",
    "        elif \"dog\" in file_path.split('/')[-1].lower():\n",
    "            return \"live\"\n",
    "        return None  # If file doesn't match expected labels\n",
    "\n",
    "    # Create output directories and save files\n",
    "    for subset_name, subset_files in subsets.items():\n",
    "        subset_dir = os.path.join(output_path, subset_name)\n",
    "        os.makedirs(subset_dir, exist_ok=True)\n",
    "\n",
    "        # Save image files in the corresponding folder\n",
    "        new_file_paths = []\n",
    "        for file_path in subset_files:\n",
    "            label = get_label(file_path)\n",
    "            if label is None:\n",
    "                continue  # Skip files that don't match expected labels\n",
    "\n",
    "            new_file_name = f\"{label}_{os.path.basename(file_path)}\"\n",
    "            new_path = os.path.join(subset_dir, new_file_name)\n",
    "            shutil.copy(file_path, new_path)\n",
    "            new_file_paths.append(new_path)  # Save new path for the txt file\n",
    "\n",
    "    # Save tgt dataset as a single list\n",
    "    tgt_file_paths = []\n",
    "    for file_path in tgt_files:\n",
    "        label = get_label(file_path)\n",
    "        if label is None:\n",
    "            continue  # Skip files that don't match expected labels\n",
    "\n",
    "        new_file_name = f\"{label}_{os.path.basename(file_path)}\"\n",
    "        new_path = os.path.join(tgt_dir, new_file_name)\n",
    "        shutil.copy(file_path, new_path)\n",
    "        tgt_file_paths.append(new_path)\n",
    "\n",
    "    print(\"Dataset split and saved at:\", output_path)\n",
    "\n",
    "# Paths\n",
    "original_data_path = \"/root/Desktop/workspace/meta-learning/FAS/cats_and_dogs_filtered/train\"\n",
    "output_data_path = \"./data/FAS_data\"\n",
    "\n",
    "# Split the dataset\n",
    "split_cat_dog_dataset(original_data_path, output_data_path)"
   ]
  },
  {
   "cell_type": "code",
   "execution_count": 5,
   "metadata": {},
   "outputs": [
    {
     "name": "stdout",
     "output_type": "stream",
     "text": [
      "Processing folder: ./data/FAS_data/src3_train_spoofing\n",
      "Data lists for src3_train_spoofing created in: ./data/data_list\n",
      "Processing folder: ./data/FAS_data/src2_train_spoofing\n",
      "Data lists for src2_train_spoofing created in: ./data/data_list\n",
      "Processing folder: ./data/FAS_data/src2_train_live\n",
      "Data lists for src2_train_live created in: ./data/data_list\n",
      "Processing folder: ./data/FAS_data/src1_train_spoofing\n",
      "Data lists for src1_train_spoofing created in: ./data/data_list\n",
      "Processing folder: ./data/FAS_data/src3_train_live\n",
      "Data lists for src3_train_live created in: ./data/data_list\n",
      "Processing folder: ./data/FAS_data/src4_test\n",
      "Data lists for src4_test created in: ./data/data_list\n",
      "Processing folder: ./data/FAS_data/src1_train_live\n",
      "Data lists for src1_train_live created in: ./data/data_list\n"
     ]
    }
   ],
   "source": [
    "import os\n",
    "import cv2\n",
    "\n",
    "def make_data_list(input_data_path=None, output_data_path=None):\n",
    "    \"\"\"\n",
    "    Generate labeled data list files for face anti-spoofing dataset.\n",
    "\n",
    "    Args:\n",
    "        input_data_path (str): Path to the input dataset directory.\n",
    "        output_data_path (str): Path to save the output data list files.\n",
    "    \"\"\"\n",
    "    if input_data_path is None:\n",
    "        input_data_path = \"FAS_data\"\n",
    "    if output_data_path is None:\n",
    "        output_data_path = \"data_list\"\n",
    "\n",
    "    # Use input folder name as prefix\n",
    "    prefix = os.path.basename(os.path.normpath(input_data_path))\n",
    "\n",
    "    # Ensure output directory exists\n",
    "    os.makedirs(output_data_path, exist_ok=True)\n",
    "\n",
    "    for root, _, files in os.walk(input_data_path):  # Search all directories under input_data_path\n",
    "        for file in files:\n",
    "            if file.endswith(\".jpg\"):\n",
    "                file_path = os.path.abspath(os.path.join(root, file))  # Convert to absolute path\n",
    "                height, width, channels = 0, 0, 0\n",
    "\n",
    "                # Read image dimensions\n",
    "                img = cv2.imread(file_path)\n",
    "                if img is not None:\n",
    "                    height, width, channels = img.shape\n",
    "\n",
    "                # Determine list file name and label\n",
    "                list_file = None\n",
    "                if \"test\" in root.lower():\n",
    "                    if \"live\" in root.lower():\n",
    "                        list_file = f\"{prefix}-TEST-REAL.txt\"\n",
    "                        face_label = \"0\"\n",
    "                    elif \"spoof\" in root.lower():\n",
    "                        list_file = f\"{prefix}-TEST-FAKE.txt\"\n",
    "                        face_label = \"1\"\n",
    "                    else:\n",
    "                        list_file = f\"{prefix}-TEST-ALL.txt\"\n",
    "                        face_label = \"1\" if \"spoof\" in file.lower() else \"0\"\n",
    "                elif \"train\" in root.lower() or \"dev\" in root.lower():\n",
    "                    if \"live\" in root.lower():\n",
    "                        list_file = f\"{prefix}-TRAIN-REAL.txt\"\n",
    "                        face_label = \"0\"\n",
    "                    elif \"spoof\" in root.lower():\n",
    "                        list_file = f\"{prefix}-TRAIN-FAKE.txt\"\n",
    "                        face_label = \"1\"\n",
    "                    else:\n",
    "                        list_file = f\"{prefix}-TRAIN-ALL.txt\"\n",
    "                        face_label = \"1\" if \"spoof\" in file.lower() else \"0\"\n",
    "\n",
    "                # Skip if list_file is not assigned\n",
    "                if list_file is None:\n",
    "                    continue\n",
    "\n",
    "                # Create the full path for the list file\n",
    "                list_file_path = os.path.abspath(os.path.join(output_data_path, list_file))\n",
    "\n",
    "                # Append data to the list file\n",
    "                with open(list_file_path, \"a\") as f:\n",
    "                    f.write(f\"{file_path},{face_label},{height},{width}\\n\")\n",
    "\n",
    "    print(f\"Data lists for {prefix} created in: {output_data_path}\")\n",
    "    return True\n",
    "\n",
    "# 반복적으로 호출하여 하위 폴더 처리\n",
    "def process_all_folders(root_folder, output_data_path):\n",
    "    \"\"\"\n",
    "    Process all subfolders in the root folder to create data lists.\n",
    "\n",
    "    Args:\n",
    "        root_folder (str): Root directory containing subfolders to process.\n",
    "        output_data_path (str): Path to save the output data list files.\n",
    "    \"\"\"\n",
    "    for sub_folder in os.listdir(root_folder):\n",
    "        sub_folder_path = os.path.join(root_folder, sub_folder)\n",
    "        if os.path.isdir(sub_folder_path):  # Check if it's a directory\n",
    "            print(f\"Processing folder: {sub_folder_path}\")\n",
    "            make_data_list(input_data_path=sub_folder_path, output_data_path=output_data_path)\n",
    "\n",
    "\n",
    "process_all_folders(root_folder='./data/FAS_data', output_data_path='./data/data_list')"
   ]
  },
  {
   "cell_type": "markdown",
   "metadata": {},
   "source": [
    "# Meta Pattern model training"
   ]
  },
  {
   "cell_type": "code",
   "execution_count": 1,
   "metadata": {},
   "outputs": [],
   "source": [
    "# import os\n",
    "# os.chdir(\"./MetaPattern_FAS\")\n",
    "# print(\"Current working directory:\", os.getcwd())"
   ]
  },
  {
   "cell_type": "code",
   "execution_count": 1,
   "metadata": {},
   "outputs": [],
   "source": [
    "from models.HFN_MP import custom_config\n",
    "\n",
    "# Config 초기화\n",
    "config = custom_config.get_cfg_custom()\n",
    "# 필요에 따라 Config 수정\n",
    "\n",
    "# ========================FOR DATA=========================\n",
    "config.DATA.ROOT_DIR = \"/root/Desktop/workspace/meta-learning/MetaPattern_FAS/data\"\n",
    "dl_root_dir = \"/root/Desktop/workspace/meta-learning/MetaPattern_FAS/data/data_list\"\n",
    "config.DATA.TARGET_DATA = dl_root_dir + \"/src4_test-TEST-ALL.txt\"\n",
    "config.DATA.TRAIN_SRC_FAKE_1 = dl_root_dir + \"/src1_train_spoofing-TRAIN-FAKE.txt\"\n",
    "config.DATA.TRAIN_SRC_FAKE_2 = dl_root_dir + \"/src2_train_spoofing-TRAIN-FAKE.txt\"\n",
    "config.DATA.TRAIN_SRC_FAKE_3 = dl_root_dir + \"/src3_train_spoofing-TRAIN-FAKE.txt\"\n",
    "config.DATA.TRAIN_SRC_REAL_1 = dl_root_dir + \"/src1_train_live-TRAIN-REAL.txt\"\n",
    "config.DATA.TRAIN_SRC_REAL_2 = dl_root_dir + \"/src2_train_live-TRAIN-REAL.txt\"\n",
    "config.DATA.TRAIN_SRC_REAL_3 = dl_root_dir + \"/src3_train_live-TRAIN-REAL.txt\"\n",
    "config.OUTPUT_DIR = \"/root/Desktop/workspace/meta-learning/MetaPattern_FAS/data/output/tmp\"\n",
    "config.DATA.DATASET='ZipDataset'\n",
    "\n",
    "config.DATA.BATCH_SIZE = 4\n",
    "\n",
    "config.NORM_FLAG = True\n",
    "config.SEED = 42\n",
    "config.DEBUG = False\n",
    "\n",
    "# ========================FOR TRIANING=========================\n",
    "config.TRAIN.INIT_LR = 0.001\n",
    "config.TRAIN.LR_EPOCH_1 = 0\n",
    "config.TRAIN.LR_EPOCH_2 = 150\n",
    "config.TRAIN.MOMENTUM = 0.9\n",
    "config.TRAIN.WEIGHT_DECAY = 5e-4 # \n",
    "config.TRAIN.WEIGHT_DECAY_T = 0.0 # ColorNet for TRANSFORMER\n",
    "config.TRAIN.MAX_ITER = 1000# 1000000\n",
    "config.TRAIN.META_TRAIN_SIZE = 2\n",
    "config.TRAIN.ITER_PER_EPOCH = 32 #100\n",
    "config.TRAIN.META_PRE_TRAIN = True\n",
    "config.TRAIN.DROPOUT = 0.1\n",
    "config.TRAIN.SYNC_TRAINING = False\n",
    "config.TRAIN.IMAGENET_PRETRAIN = True\n",
    "config.TRAIN.RESUME = '' # Path to the resume ckpt\n",
    "config.TRAIN.LR_PATIENCE = 0\n",
    "config.TRAIN.PATIENCE = 100\n",
    "config.TRAIN.SAVE_BEST = True # Only save the best model while training\n",
    "config.TRAIN.PRINT_FREQ = 100\n",
    "config.TRAIN.VAL_FREQ = 1\n",
    "config.TRAIN.W_depth = 10\n",
    "config.TRAIN.W_metatest = 1\n",
    "config.TRAIN.META_LEARNING_RATE = 0.0001\n",
    "config.TRAIN.BETAS = [0.9, 0.999]\n",
    "config.TRAIN.VAL_FREQ = 20\n",
    "config.TRAIN.NUM_FRAMES = 100\n",
    "config.TRAIN.INNER_LOOPS = 2\n",
    "\n",
    "config.TRAIN.OPTIM = 'Adam' # Adam\n"
   ]
  },
  {
   "cell_type": "code",
   "execution_count": 2,
   "metadata": {},
   "outputs": [],
   "source": [
    "from models.HFN_MP.dataset import get_data_loader\n",
    "\n",
    "# Get data loaders|\n",
    "data_loaders = get_data_loader(config)\n",
    "\n",
    "src1_train_dataloader_fake, src1_train_dataloader_real, \\\n",
    "src2_train_dataloader_fake, src2_train_dataloader_real, \\\n",
    "src3_train_dataloader_fake, src3_train_dataloader_real, \\\n",
    "tgt_dataloader = data_loaders"
   ]
  },
  {
   "cell_type": "code",
   "execution_count": 3,
   "metadata": {},
   "outputs": [],
   "source": [
    "# !python models/HFN_MP/network.py"
   ]
  },
  {
   "cell_type": "code",
   "execution_count": 4,
   "metadata": {},
   "outputs": [],
   "source": [
    "# from models.HFN_MP.trainer import Trainer"
   ]
  },
  {
   "cell_type": "code",
   "execution_count": 5,
   "metadata": {},
   "outputs": [],
   "source": [
    "# Trainer(config).train()"
   ]
  },
  {
   "cell_type": "code",
   "execution_count": 6,
   "metadata": {},
   "outputs": [],
   "source": [
    "config.TRAIN.INNER_LR = 0.001\n",
    "config.TRAIN.META_LEARNING_RATE = 0.0001\n",
    "config.TRAIN.INNER_LOOPS = 5\n",
    "config.TRAIN.PRETRAIN_HFN = True"
   ]
  },
  {
   "cell_type": "code",
   "execution_count": null,
   "metadata": {},
   "outputs": [
    {
     "name": "stdout",
     "output_type": "stream",
     "text": [
      "2024-12-09 06:26:05 - INFO - Training pattern extractor with maml\n",
      "2024-12-09 06:26:05 - INFO - Pretraining HFN on dataset 0\n",
      "2024-12-09 06:26:06 - INFO - Iteration 0: Pretrain Loss = 0.9123, Accuracy = 0.6250\n",
      "2024-12-09 06:26:09 - INFO - Iteration 25: Pretrain Loss = 1.2686, Accuracy = 0.5000\n",
      "2024-12-09 06:26:12 - INFO - Iteration 50: Pretrain Loss = 1.1987, Accuracy = 0.5000\n",
      "2024-12-09 06:26:14 - INFO - Iteration 75: Pretrain Loss = 1.1707, Accuracy = 0.3750\n",
      "2024-12-09 06:26:17 - INFO - Iteration 100: Pretrain Loss = 1.2963, Accuracy = 0.3750\n",
      "2024-12-09 06:26:19 - INFO - Iteration 125: Pretrain Loss = 1.1425, Accuracy = 0.7500\n",
      "2024-12-09 06:26:22 - INFO - Iteration 150: Pretrain Loss = 1.1066, Accuracy = 0.6250\n",
      "2024-12-09 06:26:25 - INFO - Iteration 175: Pretrain Loss = 1.1168, Accuracy = 0.6250\n",
      "2024-12-09 06:26:28 - INFO - Iteration 200: Pretrain Loss = 1.0720, Accuracy = 0.8750\n",
      "2024-12-09 06:26:31 - INFO - Iteration 225: Pretrain Loss = 1.1704, Accuracy = 0.5000\n",
      "2024-12-09 06:26:36 - INFO - Pretrained HFN checkpoint saved to /root/Desktop/workspace/meta-learning/MetaPattern_FAS/data/output/tmp/hfn_pretrained.pth\n",
      "2024-12-09 06:26:36 - INFO - maml\n",
      "2024-12-09 06:26:38 - INFO - Starting MAML Feature Extractor Training\n"
     ]
    },
    {
     "name": "stderr",
     "output_type": "stream",
     "text": [
      "  3%|███▊                                                                                                                     | 31/1000 [00:17<08:50,  1.83it/s]"
     ]
    },
    {
     "name": "stdout",
     "output_type": "stream",
     "text": [
      "2024-12-09 06:26:55 - INFO - Iteration 32: Train Loss = 1.3018, Train Accuracy = 0.4844\n"
     ]
    },
    {
     "name": "stderr",
     "output_type": "stream",
     "text": [
      "  6%|███████▌                                                                                                                 | 63/1000 [00:34<08:25,  1.85it/s]"
     ]
    },
    {
     "name": "stdout",
     "output_type": "stream",
     "text": [
      "2024-12-09 06:27:12 - INFO - Iteration 64: Train Loss = 1.2777, Train Accuracy = 0.5039\n"
     ]
    },
    {
     "name": "stderr",
     "output_type": "stream",
     "text": [
      " 10%|███████████▍                                                                                                             | 95/1000 [00:51<08:15,  1.83it/s]"
     ]
    },
    {
     "name": "stdout",
     "output_type": "stream",
     "text": [
      "2024-12-09 06:27:30 - INFO - Iteration 96: Train Loss = 1.2405, Train Accuracy = 0.5391\n"
     ]
    },
    {
     "name": "stderr",
     "output_type": "stream",
     "text": [
      " 13%|███████████████▏                                                                                                        | 127/1000 [01:09<07:59,  1.82it/s]"
     ]
    },
    {
     "name": "stdout",
     "output_type": "stream",
     "text": [
      "2024-12-09 06:27:47 - INFO - Iteration 128: Train Loss = 1.2651, Train Accuracy = 0.5195\n"
     ]
    },
    {
     "name": "stderr",
     "output_type": "stream",
     "text": [
      " 16%|███████████████████                                                                                                     | 159/1000 [01:26<07:49,  1.79it/s]"
     ]
    },
    {
     "name": "stdout",
     "output_type": "stream",
     "text": [
      "2024-12-09 06:28:05 - INFO - Iteration 160: Train Loss = 1.2512, Train Accuracy = 0.4336\n"
     ]
    },
    {
     "name": "stderr",
     "output_type": "stream",
     "text": [
      " 19%|██████████████████████▉                                                                                                 | 191/1000 [01:44<07:32,  1.79it/s]"
     ]
    },
    {
     "name": "stdout",
     "output_type": "stream",
     "text": [
      "2024-12-09 06:28:23 - INFO - Iteration 192: Train Loss = 1.2413, Train Accuracy = 0.4922\n"
     ]
    },
    {
     "name": "stderr",
     "output_type": "stream",
     "text": [
      " 22%|██████████████████████████▊                                                                                             | 223/1000 [02:02<07:12,  1.80it/s]"
     ]
    },
    {
     "name": "stdout",
     "output_type": "stream",
     "text": [
      "2024-12-09 06:28:41 - INFO - Iteration 224: Train Loss = 1.2554, Train Accuracy = 0.4961\n"
     ]
    },
    {
     "name": "stderr",
     "output_type": "stream",
     "text": [
      " 26%|██████████████████████████████▌                                                                                         | 255/1000 [02:20<06:55,  1.79it/s]"
     ]
    },
    {
     "name": "stdout",
     "output_type": "stream",
     "text": [
      "2024-12-09 06:28:59 - INFO - Iteration 256: Train Loss = 1.2332, Train Accuracy = 0.5312\n"
     ]
    },
    {
     "name": "stderr",
     "output_type": "stream",
     "text": [
      " 29%|██████████████████████████████████▍                                                                                     | 287/1000 [02:38<06:36,  1.80it/s]"
     ]
    },
    {
     "name": "stdout",
     "output_type": "stream",
     "text": [
      "2024-12-09 06:29:17 - INFO - Iteration 288: Train Loss = 1.2283, Train Accuracy = 0.5078\n"
     ]
    },
    {
     "name": "stderr",
     "output_type": "stream",
     "text": [
      " 32%|██████████████████████████████████████▎                                                                                 | 319/1000 [02:56<06:20,  1.79it/s]"
     ]
    },
    {
     "name": "stdout",
     "output_type": "stream",
     "text": [
      "2024-12-09 06:29:34 - INFO - Iteration 320: Train Loss = 1.2142, Train Accuracy = 0.5273\n"
     ]
    },
    {
     "name": "stderr",
     "output_type": "stream",
     "text": [
      " 35%|██████████████████████████████████████████                                                                              | 351/1000 [03:14<06:01,  1.80it/s]"
     ]
    },
    {
     "name": "stdout",
     "output_type": "stream",
     "text": [
      "2024-12-09 06:29:52 - INFO - Iteration 352: Train Loss = 1.2331, Train Accuracy = 0.4648\n"
     ]
    },
    {
     "name": "stderr",
     "output_type": "stream",
     "text": [
      " 38%|█████████████████████████████████████████████▉                                                                          | 383/1000 [03:31<05:39,  1.82it/s]"
     ]
    },
    {
     "name": "stdout",
     "output_type": "stream",
     "text": [
      "2024-12-09 06:30:10 - INFO - Iteration 384: Train Loss = 1.2228, Train Accuracy = 0.5117\n"
     ]
    },
    {
     "name": "stderr",
     "output_type": "stream",
     "text": [
      " 42%|█████████████████████████████████████████████████▊                                                                      | 415/1000 [03:49<05:25,  1.79it/s]"
     ]
    },
    {
     "name": "stdout",
     "output_type": "stream",
     "text": [
      "2024-12-09 06:30:28 - INFO - Iteration 416: Train Loss = 1.2226, Train Accuracy = 0.4766\n"
     ]
    },
    {
     "name": "stderr",
     "output_type": "stream",
     "text": [
      " 45%|█████████████████████████████████████████████████████▋                                                                  | 447/1000 [04:07<05:04,  1.82it/s]"
     ]
    },
    {
     "name": "stdout",
     "output_type": "stream",
     "text": [
      "2024-12-09 06:30:45 - INFO - Iteration 448: Train Loss = 1.2440, Train Accuracy = 0.4727\n"
     ]
    },
    {
     "name": "stderr",
     "output_type": "stream",
     "text": [
      " 48%|█████████████████████████████████████████████████████████▍                                                              | 479/1000 [04:24<04:46,  1.82it/s]"
     ]
    },
    {
     "name": "stdout",
     "output_type": "stream",
     "text": [
      "2024-12-09 06:31:03 - INFO - Iteration 480: Train Loss = 1.2287, Train Accuracy = 0.5078\n"
     ]
    },
    {
     "name": "stderr",
     "output_type": "stream",
     "text": [
      " 51%|█████████████████████████████████████████████████████████████▎                                                          | 511/1000 [04:42<04:33,  1.79it/s]"
     ]
    },
    {
     "name": "stdout",
     "output_type": "stream",
     "text": [
      "2024-12-09 06:31:21 - INFO - Iteration 512: Train Loss = 1.2243, Train Accuracy = 0.5430\n"
     ]
    },
    {
     "name": "stderr",
     "output_type": "stream",
     "text": [
      " 54%|█████████████████████████████████████████████████████████████████▏                                                      | 543/1000 [05:00<04:15,  1.79it/s]"
     ]
    },
    {
     "name": "stdout",
     "output_type": "stream",
     "text": [
      "2024-12-09 06:31:39 - INFO - Iteration 544: Train Loss = 1.1980, Train Accuracy = 0.5391\n"
     ]
    },
    {
     "name": "stderr",
     "output_type": "stream",
     "text": [
      " 57%|█████████████████████████████████████████████████████████████████████                                                   | 575/1000 [05:18<03:57,  1.79it/s]"
     ]
    },
    {
     "name": "stdout",
     "output_type": "stream",
     "text": [
      "2024-12-09 06:31:57 - INFO - Iteration 576: Train Loss = 1.2309, Train Accuracy = 0.5039\n"
     ]
    },
    {
     "name": "stderr",
     "output_type": "stream",
     "text": [
      " 61%|████████████████████████████████████████████████████████████████████████▊                                               | 607/1000 [05:36<03:40,  1.78it/s]"
     ]
    },
    {
     "name": "stdout",
     "output_type": "stream",
     "text": [
      "2024-12-09 06:32:14 - INFO - Iteration 608: Train Loss = 1.2126, Train Accuracy = 0.5117\n"
     ]
    },
    {
     "name": "stderr",
     "output_type": "stream",
     "text": [
      " 64%|████████████████████████████████████████████████████████████████████████████▋                                           | 639/1000 [05:54<03:21,  1.79it/s]"
     ]
    },
    {
     "name": "stdout",
     "output_type": "stream",
     "text": [
      "2024-12-09 06:32:32 - INFO - Iteration 640: Train Loss = 1.2324, Train Accuracy = 0.4727\n",
      "2024-12-09 06:32:32 - INFO - Validation at iteration 640\n"
     ]
    },
    {
     "name": "stderr",
     "output_type": "stream",
     "text": [
      "100%|█████████████████████████████████████████| 250/250 [00:08<00:00, 29.89it/s]\n"
     ]
    },
    {
     "name": "stdout",
     "output_type": "stream",
     "text": [
      "2024-12-09 06:32:51 - INFO - Frame level metrics: \n",
      "   AUC  EER  EER_THR  HTER@THR  FAR@THR  FRR@THR  THR  HTER@0.5  FAR@0.5  \\\n",
      "0  0.5  0.5      0.5       0.5      1.0      0.0  0.5       0.5      1.0   \n",
      "\n",
      "   FRR@0.5  MIN_HTER  MIN_HTER_THR  MIN_FAR_THR  MIN_FRR_THR  \n",
      "0      0.0       0.5       0.75901          1.0            0  \n",
      "2024-12-09 06:32:51 - INFO - Video level metrics: \n",
      "   AUC  EER  EER_THR  HTER@THR  FAR@THR  FRR@THR  THR  HTER@0.5  FAR@0.5  \\\n",
      "0  NaN  0.5      0.5       0.5      1.0      0.0  0.5       0.5      1.0   \n",
      "\n",
      "   FRR@0.5  MIN_HTER  MIN_HTER_THR  MIN_FAR_THR  MIN_FRR_THR  \n",
      "0      0.0       0.5       0.75901          1.0            0  \n",
      "2024-12-09 06:32:51 - INFO - Save best models\n",
      "2024-12-09 06:32:51 - INFO - [*] Saving model to /root/Desktop/workspace/meta-learning/MetaPattern_FAS/data/output/tmp/ckpt/best.ckpt\n"
     ]
    },
    {
     "name": "stderr",
     "output_type": "stream",
     "text": [
      " 67%|████████████████████████████████████████████████████████████████████████████████▌                                       | 671/1000 [06:24<01:49,  3.00it/s]"
     ]
    },
    {
     "name": "stdout",
     "output_type": "stream",
     "text": [
      "2024-12-09 06:33:03 - INFO - Iteration 672: Train Loss = 1.2685, Train Accuracy = 0.5508\n"
     ]
    },
    {
     "name": "stderr",
     "output_type": "stream",
     "text": [
      " 70%|████████████████████████████████████████████████████████████████████████████████████▎                                   | 703/1000 [06:35<01:38,  3.00it/s]"
     ]
    },
    {
     "name": "stdout",
     "output_type": "stream",
     "text": [
      "2024-12-09 06:33:13 - INFO - Iteration 704: Train Loss = 1.2531, Train Accuracy = 0.5156\n"
     ]
    },
    {
     "name": "stderr",
     "output_type": "stream",
     "text": [
      " 74%|████████████████████████████████████████████████████████████████████████████████████████▏                               | 735/1000 [06:45<01:29,  2.97it/s]"
     ]
    },
    {
     "name": "stdout",
     "output_type": "stream",
     "text": [
      "2024-12-09 06:33:24 - INFO - Iteration 736: Train Loss = 1.1989, Train Accuracy = 0.5664\n"
     ]
    },
    {
     "name": "stderr",
     "output_type": "stream",
     "text": [
      " 77%|████████████████████████████████████████████████████████████████████████████████████████████                            | 767/1000 [07:00<01:50,  2.11it/s]"
     ]
    },
    {
     "name": "stdout",
     "output_type": "stream",
     "text": [
      "2024-12-09 06:33:39 - INFO - Iteration 768: Train Loss = 1.2083, Train Accuracy = 0.5117\n"
     ]
    },
    {
     "name": "stderr",
     "output_type": "stream",
     "text": [
      " 80%|███████████████████████████████████████████████████████████████████████████████████████████████▉                        | 799/1000 [07:15<01:35,  2.11it/s]"
     ]
    },
    {
     "name": "stdout",
     "output_type": "stream",
     "text": [
      "2024-12-09 06:33:54 - INFO - Iteration 800: Train Loss = 1.1918, Train Accuracy = 0.4922\n"
     ]
    },
    {
     "name": "stderr",
     "output_type": "stream",
     "text": [
      " 83%|███████████████████████████████████████████████████████████████████████████████████████████████████▋                    | 831/1000 [07:30<01:20,  2.11it/s]"
     ]
    },
    {
     "name": "stdout",
     "output_type": "stream",
     "text": [
      "2024-12-09 06:34:09 - INFO - Iteration 832: Train Loss = 1.1898, Train Accuracy = 0.5156\n"
     ]
    },
    {
     "name": "stderr",
     "output_type": "stream",
     "text": [
      " 86%|███████████████████████████████████████████████████████████████████████████████████████████████████████▌                | 863/1000 [07:46<01:05,  2.10it/s]"
     ]
    },
    {
     "name": "stdout",
     "output_type": "stream",
     "text": [
      "2024-12-09 06:34:24 - INFO - Iteration 864: Train Loss = 1.2030, Train Accuracy = 0.5078\n"
     ]
    },
    {
     "name": "stderr",
     "output_type": "stream",
     "text": [
      " 90%|███████████████████████████████████████████████████████████████████████████████████████████████████████████▍            | 895/1000 [08:01<00:50,  2.10it/s]"
     ]
    },
    {
     "name": "stdout",
     "output_type": "stream",
     "text": [
      "2024-12-09 06:34:40 - INFO - Iteration 896: Train Loss = 1.1928, Train Accuracy = 0.5156\n"
     ]
    },
    {
     "name": "stderr",
     "output_type": "stream",
     "text": [
      " 93%|███████████████████████████████████████████████████████████████████████████████████████████████████████████████▏        | 927/1000 [08:16<00:34,  2.10it/s]"
     ]
    },
    {
     "name": "stdout",
     "output_type": "stream",
     "text": [
      "2024-12-09 06:34:55 - INFO - Iteration 928: Train Loss = 1.1995, Train Accuracy = 0.5039\n"
     ]
    },
    {
     "name": "stderr",
     "output_type": "stream",
     "text": [
      " 96%|███████████████████████████████████████████████████████████████████████████████████████████████████████████████████     | 959/1000 [08:31<00:19,  2.11it/s]"
     ]
    },
    {
     "name": "stdout",
     "output_type": "stream",
     "text": [
      "2024-12-09 06:35:10 - INFO - Iteration 960: Train Loss = 1.2132, Train Accuracy = 0.5156\n"
     ]
    },
    {
     "name": "stderr",
     "output_type": "stream",
     "text": [
      " 99%|██████████████████████████████████████████████████████████████████████████████████████████████████████████████████████▉ | 991/1000 [08:47<00:04,  2.09it/s]"
     ]
    },
    {
     "name": "stdout",
     "output_type": "stream",
     "text": [
      "2024-12-09 06:35:25 - INFO - Iteration 992: Train Loss = 1.2014, Train Accuracy = 0.5000\n"
     ]
    },
    {
     "name": "stderr",
     "output_type": "stream",
     "text": [
      "100%|███████████████████████████████████████████████████████████████████████████████████████████████████████████████████████| 1000/1000 [08:51<00:00,  1.88it/s]"
     ]
    },
    {
     "name": "stdout",
     "output_type": "stream",
     "text": [
      "2024-12-09 06:35:29 - INFO - Training PE with MAML method\n",
      "2024-12-09 06:35:29 - INFO - Training HFN with maml\n"
     ]
    },
    {
     "name": "stderr",
     "output_type": "stream",
     "text": [
      "\n"
     ]
    },
    {
     "name": "stdout",
     "output_type": "stream",
     "text": [
      "2024-12-09 06:35:31 - INFO - Starting MAML HFN Training\n"
     ]
    },
    {
     "name": "stderr",
     "output_type": "stream",
     "text": [
      "  0%|                                                                                                                                  | 0/1000 [00:00<?, ?it/s]/workspace/meta-learning/MetaPattern_FAS/models/HFN_MP/meta_network.py:108: UserWarning: Module `MetaBottleneck` has no parameter corresponding to the submodule named `downsample` in the dictionary `params` provided as an argument to `forward()`. Using the default parameters for this submodule. The list of the parameters in `params`: [conv1.weight, bn1.weight, bn1.bias, conv2.weight, bn2.weight, bn2.bias, conv3.weight, bn3.weight, bn3.bias].\n",
      "  out += self.downsample(x, params=self.get_subdict(params, 'downsample'))\n",
      "/workspace/meta-learning/MetaPattern_FAS/models/HFN_MP/meta_network.py:231: UserWarning: Module `MetaHierachicalFusionNetwork` has no parameter corresponding to the submodule named `pred_head_cls` in the dictionary `params` provided as an argument to `forward()`. Using the default parameters for this submodule. The list of the parameters in `params`: [fpn.fpn_rgb.conv1.weight, fpn.fpn_rgb.bn1.weight, fpn.fpn_rgb.bn1.bias, fpn.fpn_rgb.layer1.0.conv1.weight, fpn.fpn_rgb.layer1.0.bn1.weight, fpn.fpn_rgb.layer1.0.bn1.bias, fpn.fpn_rgb.layer1.0.conv2.weight, fpn.fpn_rgb.layer1.0.bn2.weight, fpn.fpn_rgb.layer1.0.bn2.bias, fpn.fpn_rgb.layer1.0.conv3.weight, fpn.fpn_rgb.layer1.0.bn3.weight, fpn.fpn_rgb.layer1.0.bn3.bias, fpn.fpn_rgb.layer1.0.downsample.0.weight, fpn.fpn_rgb.layer1.0.downsample.1.weight, fpn.fpn_rgb.layer1.0.downsample.1.bias, fpn.fpn_rgb.layer1.1.conv1.weight, fpn.fpn_rgb.layer1.1.bn1.weight, fpn.fpn_rgb.layer1.1.bn1.bias, fpn.fpn_rgb.layer1.1.conv2.weight, fpn.fpn_rgb.layer1.1.bn2.weight, fpn.fpn_rgb.layer1.1.bn2.bias, fpn.fpn_rgb.layer1.1.conv3.weight, fpn.fpn_rgb.layer1.1.bn3.weight, fpn.fpn_rgb.layer1.1.bn3.bias, fpn.fpn_rgb.layer1.2.conv1.weight, fpn.fpn_rgb.layer1.2.bn1.weight, fpn.fpn_rgb.layer1.2.bn1.bias, fpn.fpn_rgb.layer1.2.conv2.weight, fpn.fpn_rgb.layer1.2.bn2.weight, fpn.fpn_rgb.layer1.2.bn2.bias, fpn.fpn_rgb.layer1.2.conv3.weight, fpn.fpn_rgb.layer1.2.bn3.weight, fpn.fpn_rgb.layer1.2.bn3.bias, fpn.fpn_rgb.layer2.0.conv1.weight, fpn.fpn_rgb.layer2.0.bn1.weight, fpn.fpn_rgb.layer2.0.bn1.bias, fpn.fpn_rgb.layer2.0.conv2.weight, fpn.fpn_rgb.layer2.0.bn2.weight, fpn.fpn_rgb.layer2.0.bn2.bias, fpn.fpn_rgb.layer2.0.conv3.weight, fpn.fpn_rgb.layer2.0.bn3.weight, fpn.fpn_rgb.layer2.0.bn3.bias, fpn.fpn_rgb.layer2.0.downsample.0.weight, fpn.fpn_rgb.layer2.0.downsample.1.weight, fpn.fpn_rgb.layer2.0.downsample.1.bias, fpn.fpn_rgb.layer2.1.conv1.weight, fpn.fpn_rgb.layer2.1.bn1.weight, fpn.fpn_rgb.layer2.1.bn1.bias, fpn.fpn_rgb.layer2.1.conv2.weight, fpn.fpn_rgb.layer2.1.bn2.weight, fpn.fpn_rgb.layer2.1.bn2.bias, fpn.fpn_rgb.layer2.1.conv3.weight, fpn.fpn_rgb.layer2.1.bn3.weight, fpn.fpn_rgb.layer2.1.bn3.bias, fpn.fpn_rgb.layer2.2.conv1.weight, fpn.fpn_rgb.layer2.2.bn1.weight, fpn.fpn_rgb.layer2.2.bn1.bias, fpn.fpn_rgb.layer2.2.conv2.weight, fpn.fpn_rgb.layer2.2.bn2.weight, fpn.fpn_rgb.layer2.2.bn2.bias, fpn.fpn_rgb.layer2.2.conv3.weight, fpn.fpn_rgb.layer2.2.bn3.weight, fpn.fpn_rgb.layer2.2.bn3.bias, fpn.fpn_rgb.layer2.3.conv1.weight, fpn.fpn_rgb.layer2.3.bn1.weight, fpn.fpn_rgb.layer2.3.bn1.bias, fpn.fpn_rgb.layer2.3.conv2.weight, fpn.fpn_rgb.layer2.3.bn2.weight, fpn.fpn_rgb.layer2.3.bn2.bias, fpn.fpn_rgb.layer2.3.conv3.weight, fpn.fpn_rgb.layer2.3.bn3.weight, fpn.fpn_rgb.layer2.3.bn3.bias, fpn.fpn_rgb.layer3.0.conv1.weight, fpn.fpn_rgb.layer3.0.bn1.weight, fpn.fpn_rgb.layer3.0.bn1.bias, fpn.fpn_rgb.layer3.0.conv2.weight, fpn.fpn_rgb.layer3.0.bn2.weight, fpn.fpn_rgb.layer3.0.bn2.bias, fpn.fpn_rgb.layer3.0.conv3.weight, fpn.fpn_rgb.layer3.0.bn3.weight, fpn.fpn_rgb.layer3.0.bn3.bias, fpn.fpn_rgb.layer3.0.downsample.0.weight, fpn.fpn_rgb.layer3.0.downsample.1.weight, fpn.fpn_rgb.layer3.0.downsample.1.bias, fpn.fpn_rgb.layer3.1.conv1.weight, fpn.fpn_rgb.layer3.1.bn1.weight, fpn.fpn_rgb.layer3.1.bn1.bias, fpn.fpn_rgb.layer3.1.conv2.weight, fpn.fpn_rgb.layer3.1.bn2.weight, fpn.fpn_rgb.layer3.1.bn2.bias, fpn.fpn_rgb.layer3.1.conv3.weight, fpn.fpn_rgb.layer3.1.bn3.weight, fpn.fpn_rgb.layer3.1.bn3.bias, fpn.fpn_rgb.layer3.2.conv1.weight, fpn.fpn_rgb.layer3.2.bn1.weight, fpn.fpn_rgb.layer3.2.bn1.bias, fpn.fpn_rgb.layer3.2.conv2.weight, fpn.fpn_rgb.layer3.2.bn2.weight, fpn.fpn_rgb.layer3.2.bn2.bias, fpn.fpn_rgb.layer3.2.conv3.weight, fpn.fpn_rgb.layer3.2.bn3.weight, fpn.fpn_rgb.layer3.2.bn3.bias, fpn.fpn_rgb.layer3.3.conv1.weight, fpn.fpn_rgb.layer3.3.bn1.weight, fpn.fpn_rgb.layer3.3.bn1.bias, fpn.fpn_rgb.layer3.3.conv2.weight, fpn.fpn_rgb.layer3.3.bn2.weight, fpn.fpn_rgb.layer3.3.bn2.bias, fpn.fpn_rgb.layer3.3.conv3.weight, fpn.fpn_rgb.layer3.3.bn3.weight, fpn.fpn_rgb.layer3.3.bn3.bias, fpn.fpn_rgb.layer3.4.conv1.weight, fpn.fpn_rgb.layer3.4.bn1.weight, fpn.fpn_rgb.layer3.4.bn1.bias, fpn.fpn_rgb.layer3.4.conv2.weight, fpn.fpn_rgb.layer3.4.bn2.weight, fpn.fpn_rgb.layer3.4.bn2.bias, fpn.fpn_rgb.layer3.4.conv3.weight, fpn.fpn_rgb.layer3.4.bn3.weight, fpn.fpn_rgb.layer3.4.bn3.bias, fpn.fpn_rgb.layer3.5.conv1.weight, fpn.fpn_rgb.layer3.5.bn1.weight, fpn.fpn_rgb.layer3.5.bn1.bias, fpn.fpn_rgb.layer3.5.conv2.weight, fpn.fpn_rgb.layer3.5.bn2.weight, fpn.fpn_rgb.layer3.5.bn2.bias, fpn.fpn_rgb.layer3.5.conv3.weight, fpn.fpn_rgb.layer3.5.bn3.weight, fpn.fpn_rgb.layer3.5.bn3.bias, fpn.fpn_rgb.layer4.0.conv1.weight, fpn.fpn_rgb.layer4.0.bn1.weight, fpn.fpn_rgb.layer4.0.bn1.bias, fpn.fpn_rgb.layer4.0.conv2.weight, fpn.fpn_rgb.layer4.0.bn2.weight, fpn.fpn_rgb.layer4.0.bn2.bias, fpn.fpn_rgb.layer4.0.conv3.weight, fpn.fpn_rgb.layer4.0.bn3.weight, fpn.fpn_rgb.layer4.0.bn3.bias, fpn.fpn_rgb.layer4.0.downsample.0.weight, fpn.fpn_rgb.layer4.0.downsample.1.weight, fpn.fpn_rgb.layer4.0.downsample.1.bias, fpn.fpn_rgb.layer4.1.conv1.weight, fpn.fpn_rgb.layer4.1.bn1.weight, fpn.fpn_rgb.layer4.1.bn1.bias, fpn.fpn_rgb.layer4.1.conv2.weight, fpn.fpn_rgb.layer4.1.bn2.weight, fpn.fpn_rgb.layer4.1.bn2.bias, fpn.fpn_rgb.layer4.1.conv3.weight, fpn.fpn_rgb.layer4.1.bn3.weight, fpn.fpn_rgb.layer4.1.bn3.bias, fpn.fpn_rgb.layer4.2.conv1.weight, fpn.fpn_rgb.layer4.2.bn1.weight, fpn.fpn_rgb.layer4.2.bn1.bias, fpn.fpn_rgb.layer4.2.conv2.weight, fpn.fpn_rgb.layer4.2.bn2.weight, fpn.fpn_rgb.layer4.2.bn2.bias, fpn.fpn_rgb.layer4.2.conv3.weight, fpn.fpn_rgb.layer4.2.bn3.weight, fpn.fpn_rgb.layer4.2.bn3.bias, fpn.fpn_rgb.conv6.weight, fpn.fpn_rgb.conv6.bias, fpn.fpn_rgb.conv7.weight, fpn.fpn_rgb.conv7.bias, fpn.fpn_rgb.latlayer1.weight, fpn.fpn_rgb.latlayer1.bias, fpn.fpn_rgb.latlayer2.weight, fpn.fpn_rgb.latlayer2.bias, fpn.fpn_rgb.latlayer3.weight, fpn.fpn_rgb.latlayer3.bias, fpn.fpn_rgb.toplayer1.weight, fpn.fpn_rgb.toplayer1.bias, fpn.fpn_rgb.toplayer2.weight, fpn.fpn_rgb.toplayer2.bias, fpn.fpn_tex.conv1.weight, fpn.fpn_tex.bn1.weight, fpn.fpn_tex.bn1.bias, fpn.fpn_tex.layer1.0.conv1.weight, fpn.fpn_tex.layer1.0.bn1.weight, fpn.fpn_tex.layer1.0.bn1.bias, fpn.fpn_tex.layer1.0.conv2.weight, fpn.fpn_tex.layer1.0.bn2.weight, fpn.fpn_tex.layer1.0.bn2.bias, fpn.fpn_tex.layer1.0.conv3.weight, fpn.fpn_tex.layer1.0.bn3.weight, fpn.fpn_tex.layer1.0.bn3.bias, fpn.fpn_tex.layer1.0.downsample.0.weight, fpn.fpn_tex.layer1.0.downsample.1.weight, fpn.fpn_tex.layer1.0.downsample.1.bias, fpn.fpn_tex.layer1.1.conv1.weight, fpn.fpn_tex.layer1.1.bn1.weight, fpn.fpn_tex.layer1.1.bn1.bias, fpn.fpn_tex.layer1.1.conv2.weight, fpn.fpn_tex.layer1.1.bn2.weight, fpn.fpn_tex.layer1.1.bn2.bias, fpn.fpn_tex.layer1.1.conv3.weight, fpn.fpn_tex.layer1.1.bn3.weight, fpn.fpn_tex.layer1.1.bn3.bias, fpn.fpn_tex.layer1.2.conv1.weight, fpn.fpn_tex.layer1.2.bn1.weight, fpn.fpn_tex.layer1.2.bn1.bias, fpn.fpn_tex.layer1.2.conv2.weight, fpn.fpn_tex.layer1.2.bn2.weight, fpn.fpn_tex.layer1.2.bn2.bias, fpn.fpn_tex.layer1.2.conv3.weight, fpn.fpn_tex.layer1.2.bn3.weight, fpn.fpn_tex.layer1.2.bn3.bias, fpn.fpn_tex.layer2.0.conv1.weight, fpn.fpn_tex.layer2.0.bn1.weight, fpn.fpn_tex.layer2.0.bn1.bias, fpn.fpn_tex.layer2.0.conv2.weight, fpn.fpn_tex.layer2.0.bn2.weight, fpn.fpn_tex.layer2.0.bn2.bias, fpn.fpn_tex.layer2.0.conv3.weight, fpn.fpn_tex.layer2.0.bn3.weight, fpn.fpn_tex.layer2.0.bn3.bias, fpn.fpn_tex.layer2.0.downsample.0.weight, fpn.fpn_tex.layer2.0.downsample.1.weight, fpn.fpn_tex.layer2.0.downsample.1.bias, fpn.fpn_tex.layer2.1.conv1.weight, fpn.fpn_tex.layer2.1.bn1.weight, fpn.fpn_tex.layer2.1.bn1.bias, fpn.fpn_tex.layer2.1.conv2.weight, fpn.fpn_tex.layer2.1.bn2.weight, fpn.fpn_tex.layer2.1.bn2.bias, fpn.fpn_tex.layer2.1.conv3.weight, fpn.fpn_tex.layer2.1.bn3.weight, fpn.fpn_tex.layer2.1.bn3.bias, fpn.fpn_tex.layer2.2.conv1.weight, fpn.fpn_tex.layer2.2.bn1.weight, fpn.fpn_tex.layer2.2.bn1.bias, fpn.fpn_tex.layer2.2.conv2.weight, fpn.fpn_tex.layer2.2.bn2.weight, fpn.fpn_tex.layer2.2.bn2.bias, fpn.fpn_tex.layer2.2.conv3.weight, fpn.fpn_tex.layer2.2.bn3.weight, fpn.fpn_tex.layer2.2.bn3.bias, fpn.fpn_tex.layer2.3.conv1.weight, fpn.fpn_tex.layer2.3.bn1.weight, fpn.fpn_tex.layer2.3.bn1.bias, fpn.fpn_tex.layer2.3.conv2.weight, fpn.fpn_tex.layer2.3.bn2.weight, fpn.fpn_tex.layer2.3.bn2.bias, fpn.fpn_tex.layer2.3.conv3.weight, fpn.fpn_tex.layer2.3.bn3.weight, fpn.fpn_tex.layer2.3.bn3.bias, fpn.fpn_tex.layer3.0.conv1.weight, fpn.fpn_tex.layer3.0.bn1.weight, fpn.fpn_tex.layer3.0.bn1.bias, fpn.fpn_tex.layer3.0.conv2.weight, fpn.fpn_tex.layer3.0.bn2.weight, fpn.fpn_tex.layer3.0.bn2.bias, fpn.fpn_tex.layer3.0.conv3.weight, fpn.fpn_tex.layer3.0.bn3.weight, fpn.fpn_tex.layer3.0.bn3.bias, fpn.fpn_tex.layer3.0.downsample.0.weight, fpn.fpn_tex.layer3.0.downsample.1.weight, fpn.fpn_tex.layer3.0.downsample.1.bias, fpn.fpn_tex.layer3.1.conv1.weight, fpn.fpn_tex.layer3.1.bn1.weight, fpn.fpn_tex.layer3.1.bn1.bias, fpn.fpn_tex.layer3.1.conv2.weight, fpn.fpn_tex.layer3.1.bn2.weight, fpn.fpn_tex.layer3.1.bn2.bias, fpn.fpn_tex.layer3.1.conv3.weight, fpn.fpn_tex.layer3.1.bn3.weight, fpn.fpn_tex.layer3.1.bn3.bias, fpn.fpn_tex.layer3.2.conv1.weight, fpn.fpn_tex.layer3.2.bn1.weight, fpn.fpn_tex.layer3.2.bn1.bias, fpn.fpn_tex.layer3.2.conv2.weight, fpn.fpn_tex.layer3.2.bn2.weight, fpn.fpn_tex.layer3.2.bn2.bias, fpn.fpn_tex.layer3.2.conv3.weight, fpn.fpn_tex.layer3.2.bn3.weight, fpn.fpn_tex.layer3.2.bn3.bias, fpn.fpn_tex.layer3.3.conv1.weight, fpn.fpn_tex.layer3.3.bn1.weight, fpn.fpn_tex.layer3.3.bn1.bias, fpn.fpn_tex.layer3.3.conv2.weight, fpn.fpn_tex.layer3.3.bn2.weight, fpn.fpn_tex.layer3.3.bn2.bias, fpn.fpn_tex.layer3.3.conv3.weight, fpn.fpn_tex.layer3.3.bn3.weight, fpn.fpn_tex.layer3.3.bn3.bias, fpn.fpn_tex.layer3.4.conv1.weight, fpn.fpn_tex.layer3.4.bn1.weight, fpn.fpn_tex.layer3.4.bn1.bias, fpn.fpn_tex.layer3.4.conv2.weight, fpn.fpn_tex.layer3.4.bn2.weight, fpn.fpn_tex.layer3.4.bn2.bias, fpn.fpn_tex.layer3.4.conv3.weight, fpn.fpn_tex.layer3.4.bn3.weight, fpn.fpn_tex.layer3.4.bn3.bias, fpn.fpn_tex.layer3.5.conv1.weight, fpn.fpn_tex.layer3.5.bn1.weight, fpn.fpn_tex.layer3.5.bn1.bias, fpn.fpn_tex.layer3.5.conv2.weight, fpn.fpn_tex.layer3.5.bn2.weight, fpn.fpn_tex.layer3.5.bn2.bias, fpn.fpn_tex.layer3.5.conv3.weight, fpn.fpn_tex.layer3.5.bn3.weight, fpn.fpn_tex.layer3.5.bn3.bias, fpn.fpn_tex.layer4.0.conv1.weight, fpn.fpn_tex.layer4.0.bn1.weight, fpn.fpn_tex.layer4.0.bn1.bias, fpn.fpn_tex.layer4.0.conv2.weight, fpn.fpn_tex.layer4.0.bn2.weight, fpn.fpn_tex.layer4.0.bn2.bias, fpn.fpn_tex.layer4.0.conv3.weight, fpn.fpn_tex.layer4.0.bn3.weight, fpn.fpn_tex.layer4.0.bn3.bias, fpn.fpn_tex.layer4.0.downsample.0.weight, fpn.fpn_tex.layer4.0.downsample.1.weight, fpn.fpn_tex.layer4.0.downsample.1.bias, fpn.fpn_tex.layer4.1.conv1.weight, fpn.fpn_tex.layer4.1.bn1.weight, fpn.fpn_tex.layer4.1.bn1.bias, fpn.fpn_tex.layer4.1.conv2.weight, fpn.fpn_tex.layer4.1.bn2.weight, fpn.fpn_tex.layer4.1.bn2.bias, fpn.fpn_tex.layer4.1.conv3.weight, fpn.fpn_tex.layer4.1.bn3.weight, fpn.fpn_tex.layer4.1.bn3.bias, fpn.fpn_tex.layer4.2.conv1.weight, fpn.fpn_tex.layer4.2.bn1.weight, fpn.fpn_tex.layer4.2.bn1.bias, fpn.fpn_tex.layer4.2.conv2.weight, fpn.fpn_tex.layer4.2.bn2.weight, fpn.fpn_tex.layer4.2.bn2.bias, fpn.fpn_tex.layer4.2.conv3.weight, fpn.fpn_tex.layer4.2.bn3.weight, fpn.fpn_tex.layer4.2.bn3.bias, fpn.fpn_tex.conv6.weight, fpn.fpn_tex.conv6.bias, fpn.fpn_tex.conv7.weight, fpn.fpn_tex.conv7.bias, fpn.fpn_tex.latlayer1.weight, fpn.fpn_tex.latlayer1.bias, fpn.fpn_tex.latlayer2.weight, fpn.fpn_tex.latlayer2.bias, fpn.fpn_tex.latlayer3.weight, fpn.fpn_tex.latlayer3.bias, fpn.fpn_tex.toplayer1.weight, fpn.fpn_tex.toplayer1.bias, fpn.fpn_tex.toplayer2.weight, fpn.fpn_tex.toplayer2.bias, pred_head.0.weight, pred_head.0.bias, pred_head.2.weight, pred_head.2.bias, cls_heads.0.weight, cls_heads.0.bias].\n",
      "  cls_out = self.pred_head_cls(p7, params=self.get_subdict(params, 'pred_head_cls'))\n",
      "  3%|███▊                                                                                                                     | 31/1000 [01:18<40:18,  2.50s/it]"
     ]
    },
    {
     "name": "stdout",
     "output_type": "stream",
     "text": [
      "2024-12-09 06:36:52 - INFO - Iteration 32: Meta-Train Loss = 0.9473\n"
     ]
    },
    {
     "name": "stderr",
     "output_type": "stream",
     "text": [
      "  6%|███████▌                                                                                                                 | 63/1000 [02:38<38:41,  2.48s/it]"
     ]
    },
    {
     "name": "stdout",
     "output_type": "stream",
     "text": [
      "2024-12-09 06:38:12 - INFO - Iteration 64: Meta-Train Loss = 0.9407\n"
     ]
    },
    {
     "name": "stderr",
     "output_type": "stream",
     "text": [
      " 10%|███████████▍                                                                                                             | 95/1000 [03:56<37:06,  2.46s/it]"
     ]
    },
    {
     "name": "stdout",
     "output_type": "stream",
     "text": [
      "2024-12-09 06:39:31 - INFO - Iteration 96: Meta-Train Loss = 0.9380\n"
     ]
    },
    {
     "name": "stderr",
     "output_type": "stream",
     "text": [
      " 12%|█████████████▉                                                                                                          | 116/1000 [04:48<36:13,  2.46s/it]"
     ]
    }
   ],
   "source": [
    "from models.HFN_MP.meta_trainer import MetaTrainerManager\n",
    "meta_trainer = MetaTrainerManager(config)\n",
    "meta_trainer.train(pe_method='maml', hfn_method='maml')\n"
   ]
  },
  {
   "cell_type": "code",
   "execution_count": null,
   "metadata": {},
   "outputs": [],
   "source": [
    "meta_trainer = MetaTrainerManager(config)\n",
    "meta_trainer.train(pe_method='reptile', hfn_method='reptile')"
   ]
  },
  {
   "cell_type": "code",
   "execution_count": null,
   "metadata": {},
   "outputs": [
    {
     "ename": "NameError",
     "evalue": "name 'MetaTrainerManager' is not defined",
     "output_type": "error",
     "traceback": [
      "\u001b[0;31m---------------------------------------------------------------------------\u001b[0m",
      "\u001b[0;31mNameError\u001b[0m                                 Traceback (most recent call last)",
      "Cell \u001b[0;32mIn[2], line 1\u001b[0m\n\u001b[0;32m----> 1\u001b[0m meta_trainer \u001b[38;5;241m=\u001b[39m \u001b[43mMetaTrainerManager\u001b[49m(config)\n\u001b[1;32m      2\u001b[0m meta_trainer\u001b[38;5;241m.\u001b[39mtrain(pe_method\u001b[38;5;241m=\u001b[39m\u001b[38;5;124m'\u001b[39m\u001b[38;5;124mbase\u001b[39m\u001b[38;5;124m'\u001b[39m, hfn_method\u001b[38;5;241m=\u001b[39m\u001b[38;5;124m'\u001b[39m\u001b[38;5;124mbase\u001b[39m\u001b[38;5;124m'\u001b[39m)\n",
      "\u001b[0;31mNameError\u001b[0m: name 'MetaTrainerManager' is not defined"
     ]
    }
   ],
   "source": [
    "meta_trainer = MetaTrainerManager(config)\n",
    "meta_trainer.train(pe_method='base', hfn_method='base')"
   ]
  },
  {
   "cell_type": "code",
   "execution_count": null,
   "metadata": {},
   "outputs": [],
   "source": [
    "meta_trainer = MetaTrainerManager(config)\n",
    "meta_trainer.train(pe_method='maml', hfn_method='reptile')"
   ]
  },
  {
   "cell_type": "code",
   "execution_count": null,
   "metadata": {},
   "outputs": [],
   "source": [
    "meta_trainer = MetaTrainerManager(config)\n",
    "meta_trainer.train(pe_method='reptile', hfn_method='maml')"
   ]
  },
  {
   "cell_type": "code",
   "execution_count": null,
   "metadata": {},
   "outputs": [],
   "source": [
    "meta_trainer = MetaTrainerManager(config)\n",
    "meta_trainer.train(pe_method='base', hfn_method='maml')"
   ]
  },
  {
   "cell_type": "code",
   "execution_count": null,
   "metadata": {},
   "outputs": [],
   "source": [
    "meta_trainer = MetaTrainerManager(config)\n",
    "meta_trainer.train(pe_method='maml', hfn_method='base')"
   ]
  },
  {
   "cell_type": "code",
   "execution_count": null,
   "metadata": {},
   "outputs": [],
   "source": [
    "meta_trainer = MetaTrainerManager(config)\n",
    "meta_trainer.train(pe_method='reptile', hfn_method='base')"
   ]
  },
  {
   "cell_type": "code",
   "execution_count": null,
   "metadata": {},
   "outputs": [],
   "source": [
    "meta_trainer = MetaTrainerManager(config)\n",
    "meta_trainer.train(pe_method='base', hfn_method='reptile')"
   ]
  },
  {
   "cell_type": "code",
   "execution_count": null,
   "metadata": {},
   "outputs": [],
   "source": []
  },
  {
   "cell_type": "code",
   "execution_count": null,
   "metadata": {},
   "outputs": [],
   "source": []
  }
 ],
 "metadata": {
  "kernelspec": {
   "display_name": "fas-env",
   "language": "python",
   "name": "python3"
  },
  "language_info": {
   "codemirror_mode": {
    "name": "ipython",
    "version": 3
   },
   "file_extension": ".py",
   "mimetype": "text/x-python",
   "name": "python",
   "nbconvert_exporter": "python",
   "pygments_lexer": "ipython3",
   "version": "3.9.20"
  },
  "toc": {
   "base_numbering": 1,
   "nav_menu": {},
   "number_sections": false,
   "sideBar": true,
   "skip_h1_title": false,
   "title_cell": "Table of Contents",
   "title_sidebar": "Contents",
   "toc_cell": false,
   "toc_position": {},
   "toc_section_display": true,
   "toc_window_display": false
  }
 },
 "nbformat": 4,
 "nbformat_minor": 2
}
